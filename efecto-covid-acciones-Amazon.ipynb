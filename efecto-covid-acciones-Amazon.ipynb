{
 "cells": [
  {
   "cell_type": "markdown",
   "id": "9ae13e0e",
   "metadata": {},
   "source": [
    "# Análisis del efecto del covid en el valor de las acciones de Amazon\n",
    "**por Victoria Perez Mola**\n",
    "\n",
    "Este repositorio contiene un analisis de datos de los valores de las acciones de Amazon en los años 2019-2021. El foco del analisis es distinguir si hubo un impacto por el covid. \n",
    "\n",
    "## Objetivo \n",
    "El objetivo de este analisis es responder las siguientes preguntas: \n",
    "- Hubo un aumento de las acciones de Amazon producido por la pandemia? \n",
    "- Durante la duración de la pandemia, ese aumento fue mantenido? \n",
    "- Cual es el porcentaje de aumento de las acciones? \n",
    "- Hay un patrón en las fluctuaciones de los valores de las acciones durante la pandemia? \n",
    "\n",
    "## Tabla de contenidos \n",
    "1. Carga de datos\n",
    "2. Exploración de datos\n",
    "3. Limpieza de datos\n",
    "4. Presentación de datos\n",
    "5. Conclusiones\n",
    "6. Referencias\n",
    "\n",
    "## 1. Carga de datos\n",
    "En esta sección vamos a cargar los datos obtenidos de kaggle acerca de los precios de las acciones de Amazon"
   ]
  },
  {
   "cell_type": "code",
   "execution_count": 1,
   "id": "6d8d931a",
   "metadata": {},
   "outputs": [],
   "source": [
    "# Importar las librerias\n",
    "import pandas as pd\n",
    "import numpy as np \n",
    "import matplotlib.pyplot as plt \n",
    "import seaborn as sns \n",
    "\n",
    "%matplotlib inline"
   ]
  },
  {
   "cell_type": "code",
   "execution_count": 2,
   "id": "34958c95",
   "metadata": {},
   "outputs": [],
   "source": [
    "#importar los datos\n",
    "df = pd.read_csv('data/Amazon.csv')"
   ]
  },
  {
   "cell_type": "markdown",
   "id": "65f409e9",
   "metadata": {},
   "source": [
    "## 2. Exploración de datos \n",
    "Vamos a revisar los datos que hemos cargado"
   ]
  },
  {
   "cell_type": "markdown",
   "id": "bffedf59",
   "metadata": {},
   "source": [
    "**Precios de las acciones**"
   ]
  },
  {
   "cell_type": "code",
   "execution_count": 9,
   "id": "30266a9d",
   "metadata": {},
   "outputs": [
    {
     "data": {
      "text/html": [
       "<div>\n",
       "<style scoped>\n",
       "    .dataframe tbody tr th:only-of-type {\n",
       "        vertical-align: middle;\n",
       "    }\n",
       "\n",
       "    .dataframe tbody tr th {\n",
       "        vertical-align: top;\n",
       "    }\n",
       "\n",
       "    .dataframe thead th {\n",
       "        text-align: right;\n",
       "    }\n",
       "</style>\n",
       "<table border=\"1\" class=\"dataframe\">\n",
       "  <thead>\n",
       "    <tr style=\"text-align: right;\">\n",
       "      <th></th>\n",
       "      <th>Date</th>\n",
       "      <th>Open</th>\n",
       "      <th>High</th>\n",
       "      <th>Low</th>\n",
       "      <th>Close</th>\n",
       "      <th>Adj Close</th>\n",
       "      <th>Volume</th>\n",
       "    </tr>\n",
       "  </thead>\n",
       "  <tbody>\n",
       "    <tr>\n",
       "      <th>0</th>\n",
       "      <td>1997-05-15</td>\n",
       "      <td>2.437500</td>\n",
       "      <td>2.500000</td>\n",
       "      <td>1.927083</td>\n",
       "      <td>1.958333</td>\n",
       "      <td>1.958333</td>\n",
       "      <td>72156000</td>\n",
       "    </tr>\n",
       "    <tr>\n",
       "      <th>1</th>\n",
       "      <td>1997-05-16</td>\n",
       "      <td>1.968750</td>\n",
       "      <td>1.979167</td>\n",
       "      <td>1.708333</td>\n",
       "      <td>1.729167</td>\n",
       "      <td>1.729167</td>\n",
       "      <td>14700000</td>\n",
       "    </tr>\n",
       "    <tr>\n",
       "      <th>2</th>\n",
       "      <td>1997-05-19</td>\n",
       "      <td>1.760417</td>\n",
       "      <td>1.770833</td>\n",
       "      <td>1.625000</td>\n",
       "      <td>1.708333</td>\n",
       "      <td>1.708333</td>\n",
       "      <td>6106800</td>\n",
       "    </tr>\n",
       "    <tr>\n",
       "      <th>3</th>\n",
       "      <td>1997-05-20</td>\n",
       "      <td>1.729167</td>\n",
       "      <td>1.750000</td>\n",
       "      <td>1.635417</td>\n",
       "      <td>1.635417</td>\n",
       "      <td>1.635417</td>\n",
       "      <td>5467200</td>\n",
       "    </tr>\n",
       "    <tr>\n",
       "      <th>4</th>\n",
       "      <td>1997-05-21</td>\n",
       "      <td>1.635417</td>\n",
       "      <td>1.645833</td>\n",
       "      <td>1.375000</td>\n",
       "      <td>1.427083</td>\n",
       "      <td>1.427083</td>\n",
       "      <td>18853200</td>\n",
       "    </tr>\n",
       "    <tr>\n",
       "      <th>5</th>\n",
       "      <td>1997-05-22</td>\n",
       "      <td>1.437500</td>\n",
       "      <td>1.447917</td>\n",
       "      <td>1.312500</td>\n",
       "      <td>1.395833</td>\n",
       "      <td>1.395833</td>\n",
       "      <td>11776800</td>\n",
       "    </tr>\n",
       "    <tr>\n",
       "      <th>6</th>\n",
       "      <td>1997-05-23</td>\n",
       "      <td>1.406250</td>\n",
       "      <td>1.520833</td>\n",
       "      <td>1.333333</td>\n",
       "      <td>1.500000</td>\n",
       "      <td>1.500000</td>\n",
       "      <td>15937200</td>\n",
       "    </tr>\n",
       "  </tbody>\n",
       "</table>\n",
       "</div>"
      ],
      "text/plain": [
       "         Date      Open      High       Low     Close  Adj Close    Volume\n",
       "0  1997-05-15  2.437500  2.500000  1.927083  1.958333   1.958333  72156000\n",
       "1  1997-05-16  1.968750  1.979167  1.708333  1.729167   1.729167  14700000\n",
       "2  1997-05-19  1.760417  1.770833  1.625000  1.708333   1.708333   6106800\n",
       "3  1997-05-20  1.729167  1.750000  1.635417  1.635417   1.635417   5467200\n",
       "4  1997-05-21  1.635417  1.645833  1.375000  1.427083   1.427083  18853200\n",
       "5  1997-05-22  1.437500  1.447917  1.312500  1.395833   1.395833  11776800\n",
       "6  1997-05-23  1.406250  1.520833  1.333333  1.500000   1.500000  15937200"
      ]
     },
     "execution_count": 9,
     "metadata": {},
     "output_type": "execute_result"
    }
   ],
   "source": [
    "df.head(7)"
   ]
  },
  {
   "cell_type": "code",
   "execution_count": 4,
   "id": "927a16f1",
   "metadata": {},
   "outputs": [
    {
     "name": "stdout",
     "output_type": "stream",
     "text": [
      "<class 'pandas.core.frame.DataFrame'>\n",
      "RangeIndex: 6135 entries, 0 to 6134\n",
      "Data columns (total 7 columns):\n",
      " #   Column     Non-Null Count  Dtype  \n",
      "---  ------     --------------  -----  \n",
      " 0   Date       6135 non-null   object \n",
      " 1   Open       6135 non-null   float64\n",
      " 2   High       6135 non-null   float64\n",
      " 3   Low        6135 non-null   float64\n",
      " 4   Close      6135 non-null   float64\n",
      " 5   Adj Close  6135 non-null   float64\n",
      " 6   Volume     6135 non-null   int64  \n",
      "dtypes: float64(5), int64(1), object(1)\n",
      "memory usage: 335.6+ KB\n"
     ]
    }
   ],
   "source": [
    "df.info()"
   ]
  },
  {
   "cell_type": "code",
   "execution_count": 6,
   "id": "fb58e91f",
   "metadata": {},
   "outputs": [
    {
     "data": {
      "text/plain": [
       "(6135, 7)"
      ]
     },
     "execution_count": 6,
     "metadata": {},
     "output_type": "execute_result"
    }
   ],
   "source": [
    "df.shape"
   ]
  },
  {
   "cell_type": "code",
   "execution_count": 8,
   "id": "6e3d50e9",
   "metadata": {},
   "outputs": [
    {
     "data": {
      "text/plain": [
       "Date         6135\n",
       "Open         5441\n",
       "High         5385\n",
       "Low          5392\n",
       "Close        5523\n",
       "Adj Close    5523\n",
       "Volume       5957\n",
       "dtype: int64"
      ]
     },
     "execution_count": 8,
     "metadata": {},
     "output_type": "execute_result"
    }
   ],
   "source": [
    "df.nunique()"
   ]
  },
  {
   "cell_type": "markdown",
   "id": "06d6b0a6",
   "metadata": {},
   "source": [
    "Encontramos que el dataset de precios de acciones de amazon contiene los siguientes datos, no tiene valores nulos. \n",
    "\n",
    "Contiene datos desde el año 1997 hasta el 2021, para el analisis vamos a descartar las entradas correspondientes a los años previos al 2018. \n",
    "\n",
    "## 3. Limpieza de los datos\n",
    "Con la información obtenida del set de datos vamos a realizar la limpiexa para poder conducir el análisis. \n",
    "- Eliminar las entradas previas al 2018 \n",
    "- Llenar valores nulos \n",
    "- descartar columnas \n",
    "- Unificar valores de la columna \n",
    "\n",
    "En resumen vamos a enfocarnos en: \n",
    "- Que encontramos en el dataset que estaba mal y como vamos arreglarlo\n",
    "- Que encontramos que no nos sirve y vamos a eliminarlo \n",
    "- que encontramos que nos sirve pero en otro formato y como vamos a modificarlo (renombrar la columna, agregar nuevas columnas, etc)"
   ]
  },
  {
   "cell_type": "code",
   "execution_count": null,
   "id": "23c09270",
   "metadata": {},
   "outputs": [],
   "source": [
    "# renombrar columnas\n",
    "# agregar columnas"
   ]
  },
  {
   "cell_type": "code",
   "execution_count": null,
   "id": "884a4c83",
   "metadata": {},
   "outputs": [],
   "source": [
    "#Guardo dataframe limpio \n",
    "pd.to_csv('data/Amazon_limpio.csv')\n"
   ]
  },
  {
   "cell_type": "markdown",
   "id": "88a143b7",
   "metadata": {},
   "source": [
    "El dataset limpio tiene la forma y contiene los datos de esta manera. \n",
    "\n",
    "\n",
    "## 4. Presentación de datos\n",
    "Vamos a presentar nuestros datos para responder las preguntas definidas en el objetivo del análisis. \n"
   ]
  },
  {
   "cell_type": "code",
   "execution_count": null,
   "id": "0d0c5da9",
   "metadata": {},
   "outputs": [],
   "source": []
  },
  {
   "cell_type": "markdown",
   "id": "0c180a1f",
   "metadata": {},
   "source": [
    "## 5. Conclusiones \n",
    "\n",
    "\n",
    "## 6. Referencias "
   ]
  }
 ],
 "metadata": {
  "kernelspec": {
   "display_name": "Python 3",
   "language": "python",
   "name": "python3"
  },
  "language_info": {
   "codemirror_mode": {
    "name": "ipython",
    "version": 3
   },
   "file_extension": ".py",
   "mimetype": "text/x-python",
   "name": "python",
   "nbconvert_exporter": "python",
   "pygments_lexer": "ipython3",
   "version": "3.8.8"
  }
 },
 "nbformat": 4,
 "nbformat_minor": 5
}
